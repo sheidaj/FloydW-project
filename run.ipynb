# test python3

from sys import maxsize
import itertools

NPATH = sys.maxsize
graphfl = [[0, 7, NPATH, 8], [NPATH, 0, 5, NPATH], [NPATH, NPATH, 0, 2], [NPATH, NPATH, NPATH, 0]]
MAXL = len(graphfl[0])


def floyd(dist): 

    # Calculate the possible path combinations between two nodes
    for begin, end in itertools.product(range(MAXL), range(MAXL)):

    # Assumes that the distance is 0 if the start and end nodes are equal.
        if begin == end:
            dist[begin][end] = 0
            continue

        # Runs the shortest path to calculate the shortest path between start node and end node
        dist[begin][end] = shortpath(begin, end, MAXL - 1, dist)
    # Output of the function dist
    return dist


# Introducing a new function calculating the shortest path using a recursive function shortpath
def shortpath (begin, end, mid, dist):
    """
    An implementation of Floyd's algorithm using recursion
    """
    # Calculates the direct paths and exits the recursion only when all the middle nodes have been tried
    if mid < 0:
        return(dist[begin][end])

    # Return the minimum between two paths with a different middle end node, shortest path between the start point and the middle point,
    # Will add the middle point and the end point
    return min(shortpath(begin, end, mid - 1, dist), shortpath(begin, mid, mid - 1, dist) + shortpath(mid, end, mid - 1, dist))



if __name__ == '__main__':
    # Calls the function floyd and passes the definition of graph
    print(floyd(graphfl))

